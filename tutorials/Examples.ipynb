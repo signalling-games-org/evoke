{
 "cells": [
  {
   "cell_type": "code",
   "execution_count": 1,
   "id": "314032ad",
   "metadata": {},
   "outputs": [],
   "source": [
    "import numpy as np\n",
    "import matplotlib.pyplot as plt"
   ]
  },
  {
   "cell_type": "markdown",
   "id": "b4375049",
   "metadata": {},
   "source": [
    " ## skyrms2010signals_fig1-1"
   ]
  },
  {
   "cell_type": "markdown",
   "id": "3b9842b7",
   "metadata": {},
   "source": [
    "We import  the `asymmetric_games` module, which is the one that has the `Chance`class. We use this class to set up games with a chance player (\"nature\")."
   ]
  },
  {
   "cell_type": "code",
   "execution_count": 2,
   "id": "004c886a",
   "metadata": {},
   "outputs": [],
   "source": [
    "from skyrms import asymmetric_games as asy"
   ]
  },
  {
   "cell_type": "markdown",
   "id": "d8d3f97d",
   "metadata": {},
   "source": [
    "In order to instantiate the `Chance` class we need probabilities for the chance player, sender and receiver payoff matrices, and the number of available messages."
   ]
  },
  {
   "cell_type": "code",
   "execution_count": 3,
   "id": "1658742b",
   "metadata": {},
   "outputs": [],
   "source": [
    "states = np.array([.5, .5])\n",
    "sender_payoff_matrix = np.eye(2)\n",
    "receiver_payoff_matrix = np.eye(2)\n",
    "messages = 2"
   ]
  },
  {
   "cell_type": "code",
   "execution_count": 4,
   "id": "62325e3d",
   "metadata": {},
   "outputs": [],
   "source": [
    "lewis22 = asy.Chance(states, sender_payoff_matrix, receiver_payoff_matrix, messages)"
   ]
  },
  {
   "cell_type": "markdown",
   "id": "89756080",
   "metadata": {},
   "source": [
    "Now, in order to evolve this game, we need to decide which sender and receiver strategies we are going to use.\n",
    "A common choice would be all pure strategies. For example, for the sender:"
   ]
  },
  {
   "cell_type": "code",
   "execution_count": 5,
   "id": "d4d81c77",
   "metadata": {},
   "outputs": [
    {
     "data": {
      "text/plain": [
       "array([[[1., 0.],\n",
       "        [1., 0.]],\n",
       "\n",
       "       [[1., 0.],\n",
       "        [0., 1.]],\n",
       "\n",
       "       [[0., 1.],\n",
       "        [1., 0.]],\n",
       "\n",
       "       [[0., 1.],\n",
       "        [0., 1.]]])"
      ]
     },
     "execution_count": 5,
     "metadata": {},
     "output_type": "execute_result"
    }
   ],
   "source": [
    "lewis22.sender_pure_strats()"
   ]
  },
  {
   "cell_type": "markdown",
   "id": "eef2f002",
   "metadata": {},
   "source": [
    "And ditto for the receiver. But, for this example, Skyrms (2010, p. 10) only wants to consider non-pooling strategies (those for which senders send different signals for different states, and receivers perform different acts for different signals). So, we take pooling strategies out:"
   ]
  },
  {
   "cell_type": "code",
   "execution_count": 6,
   "id": "a2c0c982",
   "metadata": {},
   "outputs": [],
   "source": [
    "sender_strats = lewis22.sender_pure_strats()[1:-1]\n",
    "receiver_strats = lewis22.receiver_pure_strats()[1:-1]"
   ]
  },
  {
   "cell_type": "markdown",
   "id": "0c4b08ae",
   "metadata": {},
   "source": [
    "OK, now we need to evolve this, using a two-population replicator dynamics. This is in the `evolve` module."
   ]
  },
  {
   "cell_type": "code",
   "execution_count": 7,
   "id": "cc3ee0aa",
   "metadata": {},
   "outputs": [],
   "source": [
    "from skyrms.evolve import TwoPops"
   ]
  },
  {
   "cell_type": "code",
   "execution_count": 8,
   "id": "274ce881",
   "metadata": {},
   "outputs": [],
   "source": [
    "two_pop = TwoPops(lewis22, sender_strats, receiver_strats)"
   ]
  },
  {
   "cell_type": "markdown",
   "id": "c9fc0519",
   "metadata": {},
   "source": [
    "We can do a bunch of things with this object, but right now what we want to do is take a bunch of proportions of sender strategies, and proportions of receiver strategies, and evolve them one discrete step, then plot the result."
   ]
  },
  {
   "cell_type": "markdown",
   "id": "39a32753",
   "metadata": {},
   "source": [
    "`two_pop` can generate a random sender (receiver) frequency vector:"
   ]
  },
  {
   "cell_type": "code",
   "execution_count": 9,
   "id": "cfb9ad25",
   "metadata": {},
   "outputs": [],
   "source": [
    "rand_sender = two_pop.random_sender()\n",
    "rand_receiver = two_pop.random_receiver()"
   ]
  },
  {
   "cell_type": "markdown",
   "id": "f24345d7",
   "metadata": {},
   "source": [
    "... and then evolve these frequencies using the replicator dynamics:"
   ]
  },
  {
   "cell_type": "code",
   "execution_count": 10,
   "id": "2dcf6f0a",
   "metadata": {},
   "outputs": [
    {
     "data": {
      "text/plain": [
       "array([0.9651, 0.0349, 0.9651, 0.0349])"
      ]
     },
     "execution_count": 10,
     "metadata": {},
     "output_type": "execute_result"
    }
   ],
   "source": [
    "# There's this weird thing that I keep concatenating and dividing the vector of sender and receiver freqs.\n",
    "# I don't remember why I did that, but it's something to look into.\n",
    "two_pop.discrete_replicator_delta_X(np.concatenate((rand_sender, rand_receiver)))"
   ]
  },
  {
   "cell_type": "markdown",
   "id": "137a4d32",
   "metadata": {},
   "source": [
    "But we want our frequencies to be neatly spaced in a 15x15 grid (in order to replicate Skyrms's figure)"
   ]
  },
  {
   "cell_type": "code",
   "execution_count": 11,
   "id": "3c33135f",
   "metadata": {},
   "outputs": [],
   "source": [
    "freqs = np.linspace(0.01, .99, 15)\n",
    "# This below just adds the complementary to 1 to each value, \n",
    "# so that we have a full freq vector\n",
    "senders = np.vstack((freqs, 1 - freqs)).T \n",
    "receivers = np.vstack((freqs, 1 - freqs)).T"
   ]
  },
  {
   "cell_type": "markdown",
   "id": "306c99a6",
   "metadata": {},
   "source": [
    "In order to draw our vector field, we need velocities.\n",
    "\n",
    "Thas is to say, a function that takes \n",
    "\n",
    "1. the frequency of the first sender strategy, and \n",
    "2. the frequency of the first receiver strategy\n",
    "\n",
    "and returns\n",
    "\n",
    "1. the change in frequency of the first sender strategy\n",
    "2. the change in frequency of the second sender strategy\n",
    "\n",
    "This function is not in the `skyrms` library. Should it?"
   ]
  },
  {
   "cell_type": "code",
   "execution_count": 12,
   "id": "8b580f15",
   "metadata": {},
   "outputs": [],
   "source": [
    "def uv_from_xy(x, y):\n",
    "    senders = np.array([x, 1 - x])\n",
    "    receivers = np.array([y, 1 - y])\n",
    "    new_pop_vector = two_pop.discrete_replicator_delta_X(np.concatenate((senders, receivers)))\n",
    "    new_senders, new_receivers = two_pop.vector_to_populations(new_pop_vector)\n",
    "    return (1-x) - new_senders[1], (1-y) - new_receivers[1]"
   ]
  },
  {
   "cell_type": "markdown",
   "id": "6dc6842a",
   "metadata": {},
   "source": [
    "And now we just use `matplotlib.pyplot.quiver`"
   ]
  },
  {
   "cell_type": "code",
   "execution_count": 13,
   "id": "13583bc7",
   "metadata": {},
   "outputs": [],
   "source": [
    "X, Y = np.meshgrid(freqs, freqs)"
   ]
  },
  {
   "cell_type": "code",
   "execution_count": 14,
   "id": "86a30025",
   "metadata": {},
   "outputs": [],
   "source": [
    "U, V = np.vectorize(uv_from_xy)(X, Y)"
   ]
  },
  {
   "cell_type": "code",
   "execution_count": 15,
   "id": "1b118614",
   "metadata": {
    "scrolled": true
   },
   "outputs": [
    {
     "data": {
      "image/png": "[encoded data removed]",
      "text/plain": [
       "<Figure size 640x480 with 1 Axes>"
      ]
     },
     "metadata": {},
     "output_type": "display_data"
    }
   ],
   "source": [
    "fig, ax = plt.subplots()\n",
    "q = ax.quiver(X, Y, U, V, scale=20, )\n",
    "plt.show()"
   ]
  },
  {
   "cell_type": "markdown",
   "id": "b5c16a42",
   "metadata": {},
   "source": [
    " ## skyrms2010signals_fig1-2"
   ]
  },
  {
   "cell_type": "markdown",
   "id": "97552747",
   "metadata": {},
   "source": [
    "On page 11 of _Signals_, Skyrms describes a variant on the above game:\n",
    "\n",
    "> Consider a one-population model where the agent’s contingency plans, *if sender... and if receiver...* correspond to the four corners of the model we just considered. The dynamics lives on a tetrahedron.\n",
    "\n",
    "To construct this population, notice that there are four variants:\n",
    "1. When sender play strat 0, when receiver play strat 0\n",
    "2. When sender play strat 0, when receiver play strat 1\n",
    "3. When sender play strat 1, when receiver play strat 0\n",
    "4. When sender play strat 1, when receiver play strat 1\n",
    "\n",
    "We're going to create a one-population model using `evolve.OnePop()` to simulate the evolution of these four types. \n",
    "What `OnePop()` needs is a `Game()` object and what we might call an interaction payoff matrix.\n",
    "\n",
    "The interaction payoff matrix takes each of the four types and says what its payoff would be if it were to meet each of the other four types.\n",
    "So it's a 4x4 array, like the following."
   ]
  },
  {
   "cell_type": "code",
   "execution_count": 16,
   "id": "3196e055",
   "metadata": {},
   "outputs": [],
   "source": [
    "## Set up\n",
    "import numpy as np\n",
    "\n",
    "## Initialize\n",
    "## Create interaction payoff matrix \n",
    "payoffs = np.array(\n",
    "    [\n",
    "        [1,0.5,0.5,0], # Payoffs received by type 1 when encountering types 1, 2, 3, 4\n",
    "        [0.5,0,1,0.5], # Payoffs received by type 2 when encountering types 1, 2, 3, 4\n",
    "        [0.5,1,0,0.5], # Payoffs received by type 3 when encountering types 1, 2, 3, 4\n",
    "        [0,0.5,0.5,1]  # Payoffs received by type 4 when encountering types 1, 2, 3, 4\n",
    "    ]\n",
    ")\n",
    "\n",
    "## And the player types are all of the pure strategies,\n",
    "##  which just means four vectors each saying \"strategy 1\", \"strategy 2\" etc\n",
    "playertypes = np.array(\n",
    "    [\n",
    "        [1,0,0,0], # \"I'm playing the first strategy!\"\n",
    "        [0,1,0,0], # \"I'm playing the second strategy!\"\n",
    "        [0,0,1,0], # \"I'm playing the third strategy!\"\n",
    "        [0,0,0,1]  # \"I'm playing the fourth strategy!\"\n",
    "    ]\n",
    ")"
   ]
  },
  {
   "cell_type": "markdown",
   "id": "a983ec91",
   "metadata": {},
   "source": [
    "And the funny thing is we don't even need to use a *signalling* game here.\n",
    "The strategies and payoffs are kind of \"fixed\" by the `playertypes` array.\n",
    "\n",
    "So we can just create a symmetric, non-signalling game with these payoffs."
   ]
  },
  {
   "cell_type": "code",
   "execution_count": 17,
   "id": "33fcc569",
   "metadata": {},
   "outputs": [],
   "source": [
    "from skyrms.symmetric_games import NoSignal\n",
    "\n",
    "game = NoSignal(payoffs)"
   ]
  },
  {
   "cell_type": "markdown",
   "id": "d1ed50f1",
   "metadata": {},
   "source": [
    "And we feed the game into the `OnePop` along with the `playertypes` array...\n",
    "\n",
    "...or we would do if there wasn't a bug in `NoSignal`.\n",
    "The following code, if uncommented and executed in Python 3.11.0, throws an error.\n",
    "The reason is that it's trying to step through an array and get the payoffs at that point in the array (sender i, receiver j), but the types of i and j are `float` rather than `int`."
   ]
  },
  {
   "cell_type": "code",
   "execution_count": 18,
   "id": "99ded02d",
   "metadata": {},
   "outputs": [],
   "source": [
    "from skyrms.evolve import OnePop\n",
    "#one_pop = OnePop(game,playertypes)"
   ]
  },
  {
   "cell_type": "markdown",
   "id": "4cdd9c00",
   "metadata": {},
   "source": [
    "Instead, we'll quickly rig up our own `NoSignal` class and overwrite the bug."
   ]
  },
  {
   "cell_type": "code",
   "execution_count": 19,
   "id": "32759b32",
   "metadata": {},
   "outputs": [],
   "source": [
    "class NoSignalFixed(NoSignal):\n",
    "    def avg_payoffs(self, player_strats):\n",
    "        \"\"\"\n",
    "        Return an array with the average payoff of strat i against\n",
    "        strat j in position <i, j>\n",
    "        \"\"\"\n",
    "        payoff_ij = np.vectorize(lambda i, j: self.payoff(player_strats[int(i)],\n",
    "                                                          player_strats[int(j)]))\n",
    "        shape_result = [len(player_strats)] * 2\n",
    "        return np.fromfunction(payoff_ij, shape_result)\n",
    "\n",
    "## Now recreate the game with the fixed version of the method\n",
    "game = NoSignalFixed(payoffs)\n",
    "\n",
    "## And create the OnePop\n",
    "one_pop = OnePop(game,playertypes)"
   ]
  },
  {
   "cell_type": "markdown",
   "id": "3a982cea",
   "metadata": {},
   "source": [
    "Great! Now we can get some data points in order to plot the tetrahedron.\n",
    "\n",
    "We need a way to translate from the population vector to the three-dimensional tetrahedron coordinates.\n",
    "The population vector is four-dimensional.\n",
    "We can use the barycentric coordinate formula. \n",
    "I found it here: https://math.stackexchange.com/a/3354099"
   ]
  },
  {
   "cell_type": "code",
   "execution_count": 20,
   "id": "f56dd0f1",
   "metadata": {},
   "outputs": [],
   "source": [
    "## Tetrahedron vertices\n",
    "vertices = np.array([\n",
    "    [1,1,5],          # summit\n",
    "    [0,0,0],            # bottom left\n",
    "    [2,2,0],            # bottom right\n",
    "    [1.75,4.5,0]           # back\n",
    "])\n",
    "\n",
    "def vector_to_barycentric(\n",
    "        vector\n",
    "        ):\n",
    "    \"\"\"\n",
    "    Convert a 4d vector location to its equivalent within a tetrahedron\n",
    "\n",
    "    Parameters\n",
    "    ----------\n",
    "    vector : TYPE\n",
    "        DESCRIPTION.\n",
    "\n",
    "    Returns\n",
    "    -------\n",
    "    barycentric_location : TYPE\n",
    "        DESCRIPTION.\n",
    "\n",
    "    \"\"\"\n",
    "\n",
    "    ## Initialise\n",
    "\n",
    "    ## Normalise vector v to get vector u\n",
    "    u = vector / vector.sum()\n",
    "\n",
    "    ## Multiply vector u by the tetrahedron coordinates \n",
    "    barycentric_location = u @ vertices\n",
    "\n",
    "    return barycentric_location"
   ]
  },
  {
   "cell_type": "markdown",
   "id": "803ba811",
   "metadata": {},
   "source": [
    "We want to create some arrows at roughly the positions where Skyrms plots them.\n",
    "First, specify the population vectors corresponding to those arrows."
   ]
  },
  {
   "cell_type": "code",
   "execution_count": 21,
   "id": "f7b56d8a",
   "metadata": {},
   "outputs": [],
   "source": [
    "pop_vectors = np.array([\n",
    "        [0.75,0.25,0,0], # left edge, pointing upward, upper\n",
    "        [0.25,0.75,0,0], # left edge, pointing upward, lower\n",
    "        [0,0.75,0.25,0], # bottom edge, pointing inward from left\n",
    "        [0,0.25,0.75,0], # bottom edge, pointing inward from right\n",
    "        [0.75,0,0,0.25], # back edge, top third, facing up\n",
    "        [0.25,0,0,0.75], # back edge, bottom third, facing down\n",
    "        [0,0.25,0,0.75], # back-bottom edge, close to the back vertex\n",
    "        [0,0,0.25,0.75]  # front-bottom edge, close to the back vertex (this arrowhead doesn't come out very clearly)\n",
    "    ])"
   ]
  },
  {
   "cell_type": "markdown",
   "id": "fb49bbce",
   "metadata": {},
   "source": [
    "From these starting population vectors, we want to know where the population would go.\n",
    "That's what will determine the size and direction of the arrows.\n",
    "\n",
    "I will come back and use `np.vectorize()` on this, I promise!\n",
    "But for now I am using a for-loop, because it's kinder to my brain."
   ]
  },
  {
   "cell_type": "code",
   "execution_count": 22,
   "id": "7048ba1a",
   "metadata": {},
   "outputs": [],
   "source": [
    "## See what the \"new\" pop vectors are.\n",
    "## Do a for-loop for now.\n",
    "## Later we will vectorize it.\n",
    "pop_vectors_new = one_pop.discrete_replicator_delta_X(pop_vectors[0])\n",
    "\n",
    "for i in range(1,len(pop_vectors)):\n",
    "    pop_vectors_new = np.vstack(\n",
    "        (pop_vectors_new,\n",
    "         one_pop.discrete_replicator_delta_X(pop_vectors[i])\n",
    "         )\n",
    "    )"
   ]
  },
  {
   "cell_type": "markdown",
   "id": "68c8e68b",
   "metadata": {},
   "source": [
    "Now for the barycentric magic: we convert those 4-dimensional population vectors into 3-dimensional points, and generate \"population velocities\" -- depicted as arrows -- from the differences between the new population locations and the old ones."
   ]
  },
  {
   "cell_type": "code",
   "execution_count": 23,
   "id": "4606d046",
   "metadata": {},
   "outputs": [],
   "source": [
    "## Get barycentric coordinates for the original population positions\n",
    "test_pop_vector_bary = np.apply_along_axis(\n",
    "                        vector_to_barycentric,\n",
    "                        axis=1,\n",
    "                        arr=pop_vectors)\n",
    "\n",
    "## Get barycentric coordinates for new population positions\n",
    "new_pop_vector_bary     = np.apply_along_axis(\n",
    "                        vector_to_barycentric,\n",
    "                        axis=1,\n",
    "                        arr=pop_vectors_new)\n",
    "\n",
    "## ... then get the difference between that and the current step.\n",
    "arrows = new_pop_vector_bary - test_pop_vector_bary"
   ]
  },
  {
   "cell_type": "markdown",
   "id": "56e03d57",
   "metadata": {},
   "source": [
    "And it's all over bar the shouting."
   ]
  },
  {
   "cell_type": "code",
   "execution_count": 24,
   "id": "4db54e49",
   "metadata": {},
   "outputs": [
    {
     "data": {
      "image/png": "[encoded data removed]",
      "text/plain": [
       "<Figure size 640x480 with 1 Axes>"
      ]
     },
     "metadata": {},
     "output_type": "display_data"
    }
   ],
   "source": [
    "import matplotlib.pyplot as plt\n",
    "\n",
    "## There's probably a nicer way to do this.\n",
    "## But I am adapting some code I copied and pasted from elsewhere.\n",
    "soa = np.hstack((test_pop_vector_bary,arrows))\n",
    "X, Y, Z, U, V, W = zip(*soa)\n",
    "\n",
    "## Create the figure object\n",
    "fig = plt.figure()\n",
    "ax = fig.add_subplot(111, projection='3d')\n",
    "\n",
    "## Plot the 3D quiver plot.\n",
    "## Parameters at https://matplotlib.org/stable/api/_as_gen/mpl_toolkits.mplot3d.axes3d.Axes3D.html#mpl_toolkits.mplot3d.axes3d.Axes3D.quiver\n",
    "ax.quiver(X, Y, Z, U, V, W,\n",
    "          color = 'k',\n",
    "           normalize=True,\n",
    "          length = 0.5,\n",
    "          arrow_length_ratio = 0.5,\n",
    "          pivot = 'middle'\n",
    "          )\n",
    "\n",
    "## Set the limits of the three axes.\n",
    "ax.set_xlim([-0.05, 2.1])\n",
    "ax.set_ylim([-0.05, 3.05])\n",
    "ax.set_zlim([-0.05, 3.05])\n",
    "\n",
    "## Remove the axes, because Skyrms's plot doesn't include them.\n",
    "ax.set_axis_off()\n",
    "\n",
    "## Draw the edges of the tetrahedron.\n",
    "## This bit was also \"borrowed\" from StackExchange.\n",
    "from itertools import combinations\n",
    "lines=combinations(vertices,2)\n",
    "i=0\n",
    "for x in lines:\n",
    "    i+=1\n",
    "    line=np.transpose(np.array(x))\n",
    "\n",
    "    ## Make the back line a double dash\n",
    "    linestyle = '--' if i == 5 else '-'\n",
    "\n",
    "    ## https://matplotlib.org/stable/api/_as_gen/mpl_toolkits.mplot3d.axes3d.Axes3D.html#mpl_toolkits.mplot3d.axes3d.Axes3D.plot3D\n",
    "    ax.plot3D(\n",
    "        line[0],\n",
    "        line[1],\n",
    "        line[2],\n",
    "        c='0',\n",
    "        linestyle = linestyle,\n",
    "        linewidth = 0.8\n",
    "        )\n",
    "\n",
    "## Show the thing.\n",
    "plt.show()"
   ]
  },
  {
   "cell_type": "markdown",
   "id": "90287e0f",
   "metadata": {},
   "source": [
    "All that's left is to draw the separating surface in the middle of the tetrahedron."
   ]
  },
  {
   "cell_type": "markdown",
   "id": "5ce11403",
   "metadata": {},
   "source": [
    "## skyrms2010signals_fig4-1"
   ]
  },
  {
   "cell_type": "markdown",
   "id": "dd0357bd",
   "metadata": {},
   "source": [
    "First we create the rock-paper-scissors game"
   ]
  },
  {
   "cell_type": "code",
   "execution_count": 56,
   "id": "af5831bc",
   "metadata": {},
   "outputs": [],
   "source": [
    "from skyrms import symmetric_games as sym\n",
    "from skyrms import evolve as evo"
   ]
  },
  {
   "cell_type": "code",
   "execution_count": 213,
   "id": "0443cc10",
   "metadata": {},
   "outputs": [
    {
     "data": {
      "text/plain": [
       "<module 'skyrms.evolve' from '/home/manolo/.local/lib/python3.9/site-packages/skyrms/evolve.py'>"
      ]
     },
     "execution_count": 213,
     "metadata": {},
     "output_type": "execute_result"
    }
   ],
   "source": [
    "import importlib, sys\n",
    "importlib.reload(sym)\n",
    "importlib.reload(evo)"
   ]
  },
  {
   "cell_type": "code",
   "execution_count": 217,
   "id": "661b057a",
   "metadata": {},
   "outputs": [],
   "source": [
    "rps_payoff_matrix = np.array([[1, 2, 0], [0, 1, 2], [2, 0, 1]])\n",
    "rps = sym.NoSignal(rps_payoff_matrix)\n",
    "# I don't know why I only allow one payoff matrix for both players in NoSignal. \n",
    "# I'm not right now seeing that two payoff matrices is nonsensical or anything"
   ]
  },
  {
   "cell_type": "markdown",
   "id": "1e069682",
   "metadata": {},
   "source": [
    "Now, a one-population replicator dynamics object"
   ]
  },
  {
   "cell_type": "code",
   "execution_count": 219,
   "id": "9a51cdb1",
   "metadata": {},
   "outputs": [],
   "source": [
    "rps_replicator = evo.OnePop(rps, rps.pure_strats())"
   ]
  },
  {
   "cell_type": "code",
   "execution_count": 273,
   "id": "4854876e",
   "metadata": {},
   "outputs": [],
   "source": [
    "# Three nicely spaced initial populations\n",
    "\n",
    "initplayer1 = np.array([.8, .1, .1])\n",
    "initplayer2 = np.array([.6, .2, .2])\n",
    "initplayer3 = np.array([.4, .3, .3])"
   ]
  },
  {
   "cell_type": "code",
   "execution_count": 274,
   "id": "75054317",
   "metadata": {},
   "outputs": [],
   "source": [
    "orbit1 = rps_replicator.replicator_odeint(initplayer1, np.linspace(0, 100, num=1000))\n",
    "orbit2 = rps_replicator.replicator_odeint(initplayer2, np.linspace(0, 100, num=1000))\n",
    "orbit3 = rps_replicator.replicator_odeint(initplayer3, np.linspace(0, 100, num=1000))"
   ]
  },
  {
   "cell_type": "markdown",
   "id": "3d825ae8",
   "metadata": {},
   "source": [
    "Now we plot this. We need a ternary (i.e., 2-simplex) plot. I'm going to use a specialized library for this. I guess we can decide whether we want to add another dependency to our library, or roll out our own thing."
   ]
  },
  {
   "cell_type": "code",
   "execution_count": 275,
   "id": "d53c35e7",
   "metadata": {},
   "outputs": [],
   "source": [
    "import ternary"
   ]
  },
  {
   "cell_type": "code",
   "execution_count": 284,
   "id": "db22870b",
   "metadata": {},
   "outputs": [
    {
     "data": {
      "image/png": "[encoded data removed]",
      "text/plain": [
       "<Figure size 640x480 with 1 Axes>"
      ]
     },
     "metadata": {},
     "output_type": "display_data"
    }
   ],
   "source": [
    "figure, tax = ternary.figure(scale=1)\n",
    "tax.get_axes().axis('off')\n",
    "tax.boundary(linewidth=.5)\n",
    "tax.clear_matplotlib_ticks()\n",
    "tax.plot(orbit1)\n",
    "tax.plot(orbit2)\n",
    "tax.plot(orbit3)"
   ]
  },
  {
   "cell_type": "code",
   "execution_count": null,
   "id": "1a7510f5",
   "metadata": {},
   "outputs": [],
   "source": []
  }
 ],
 "metadata": {
  "kernelspec": {
   "display_name": "Python 3 (ipykernel)",
   "language": "python",
   "name": "python3"
  },
  "language_info": {
   "codemirror_mode": {
    "name": "ipython",
    "version": 3
   },
   "file_extension": ".py",
   "mimetype": "text/x-python",
   "name": "python",
   "nbconvert_exporter": "python",
   "pygments_lexer": "ipython3",
   "version": "3.9.13"
  }
 },
 "nbformat": 4,
 "nbformat_minor": 5
}
